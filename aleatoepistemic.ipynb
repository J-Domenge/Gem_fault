{
 "cells": [
  {
   "cell_type": "code",
   "execution_count": 252,
   "id": "2847718a-112c-4fdc-a4c4-91e26feb9330",
   "metadata": {},
   "outputs": [],
   "source": [
    "import numpy as np\n",
    "import matplotlib.pyplot as plt\n",
    "import os\n",
    "\n",
    "from openquake.hazardlib.const import TRT\n",
    "from openquake.hazardlib.source.area import AreaSource\n",
    "from openquake.hazardlib.mfd import TruncatedGRMFD\n",
    "from openquake.hazardlib.scalerel import WC1994\n",
    "from openquake.hazardlib.tom import PoissonTOM\n",
    "from openquake.hazardlib.pmf import PMF\n",
    "from openquake.hazardlib.geo import Point, Polygon, NodalPlane\n",
    "from openquake.hazardlib.source import BaseRupture, NonParametricSeismicSource, ParametricProbabilisticRupture\n",
    "from openquake.hazardlib.sourcewriter import write_source_model\n",
    "\n",
    "from scipy.stats import linregress"
   ]
  },
  {
   "cell_type": "code",
   "execution_count": 193,
   "id": "825372db-3703-44c7-a74d-3fb3f3ed6625",
   "metadata": {},
   "outputs": [],
   "source": [
    "# set everything for the mfd\n",
    "min_mag = 5.0\n",
    "max_mag = 5.1\n",
    "bin_width = 0.1 #0.1\n",
    "a_val = 3.0\n",
    "b_val = 1.0\n",
    "mfd = TruncatedGRMFD(min_mag, max_mag, bin_width, a_val, b_val)"
   ]
  },
  {
   "cell_type": "code",
   "execution_count": 172,
   "id": "a1288d2e-8008-4c73-a73a-242edf05bb99",
   "metadata": {},
   "outputs": [],
   "source": [
    "#create nodal plane\n",
    "max_angle_strike = 180\n",
    "pas = 25\n",
    "\n",
    "nodalplanes = []\n",
    "number_orientation = list(range(0, max_angle_strike, pas))\n",
    "\n",
    "for e in number_orientation: \n",
    "    nodalplanes.append(((1/len(number_orientation)), NodalPlane(strike=e, dip=90.0, rake=0.0)))\n"
   ]
  },
  {
   "cell_type": "code",
   "execution_count": 173,
   "id": "aa3619ea-9966-4671-bdcd-323bea586043",
   "metadata": {},
   "outputs": [],
   "source": [
    "nodalplanes = [(1, NodalPlane(strike=45, dip=90.0, rake=0.0))]"
   ]
  },
  {
   "cell_type": "code",
   "execution_count": 174,
   "id": "0b560b3b-c9f5-4251-9573-d2556bc49b72",
   "metadata": {},
   "outputs": [],
   "source": [
    "#set everything for the area source\n",
    "source_id = '05'\n",
    "name = 'Aleatoepist'\n",
    "tectonic_region_type = TRT.ACTIVE_SHALLOW_CRUST\n",
    "mfd = mfd # MDF\n",
    "rupture_mesh_spacing = 1.0 #it change a thinks that i dont know (weird change about fault on the bottom right (was 1)\n",
    "msr = WC1994() #scalling relationship\n",
    "rupture_aspect_ratio = 1 #aspect ratio (move the strike)\n",
    "tom = PoissonTOM(1.0) # ?? Erased the rupture in the bottom right ???? If the number is one, there are some problem on bottom right\n",
    "upper_seismogenic_depth = 0.0 #Seismogenic setting\n",
    "lower_seismogenic_depth = 15.0 #Seismogenic setting\n",
    "nodal_plane_distribution = PMF(nodalplanes) #that a discrete random variable is exactly equal to some value.\n",
    "#I think this is the proba to have one or the other nodal plane ? \n",
    "hypocenter_distribution = PMF([(1.0, 5.0)]) # So you can decide the proba of the hypocenter to be this value or an other (weight) \n",
    "#-5.0000000E-01 -5.0000000E-01 -3.0000000E-01 -1.0000000E-01 1.0000000E-01 2.0000000E-01 3.0000000E-01 -8.0000000E-01\n",
    "polygon = Polygon([Point(-0.5, -0.5), Point(-0.5, 0.5), #Set the area\n",
    "                   Point(0.5, 0.5), Point(0.5, -0.5)])\n",
    "#polygon = Polygon([Point(-0.5, -0.5), Point(-0.3, -0.1), #Set the area\n",
    "#                   Point(0.1, 0.2), Point(0.3, -0.8)])\n",
    "area_discretization = 10.0  #Descretization of the space. More the number will be high, higher the space will be between each fault"
   ]
  },
  {
   "cell_type": "code",
   "execution_count": 175,
   "id": "e0c6e9ee-b4d8-49fe-aeb0-a982cfcc2c34",
   "metadata": {},
   "outputs": [],
   "source": [
    "src = AreaSource(source_id, name, tectonic_region_type, mfd, #Create the AreaSource\n",
    "                 rupture_mesh_spacing, msr, rupture_aspect_ratio,\n",
    "                 tom, upper_seismogenic_depth, lower_seismogenic_depth,\n",
    "                 nodal_plane_distribution, hypocenter_distribution,\n",
    "                 polygon, area_discretization)"
   ]
  },
  {
   "cell_type": "code",
   "execution_count": 181,
   "id": "2a96898a-2aec-45d0-a092-83be09d30de8",
   "metadata": {},
   "outputs": [
    {
     "data": {
      "text/plain": [
       "2.139879436315454e-07"
      ]
     },
     "execution_count": 181,
     "metadata": {},
     "output_type": "execute_result"
    }
   ],
   "source": [
    "rup.occurrence_rate"
   ]
  },
  {
   "cell_type": "code",
   "execution_count": 176,
   "id": "e976bdb3-3f8c-475f-842d-aa0db6ee2959",
   "metadata": {},
   "outputs": [],
   "source": [
    "data = []\n",
    "\n",
    "for rup in src.iter_ruptures(): #Take all the information needed in the AreaSource \n",
    "    mag = rup.mag\n",
    "    rake = rup.rake\n",
    "    trt = rup.tectonic_region_type\n",
    "    hypocenter = rup.hypocenter\n",
    "    surface = rup.surface\n",
    "    prob_n0 = np.exp(-rup.occurrence_rate)\n",
    "    prob_n1 = 1 - prob_n0\n",
    "    pmf = PMF([(prob_n0, 0.0), (prob_n1, 1.0)]) #Set the probability of the 2 input\n",
    "    brup = BaseRupture(mag, rake, trt, hypocenter, surface) #Baserupture\n",
    "    data.append((brup, pmf))\n"
   ]
  },
  {
   "cell_type": "code",
   "execution_count": 177,
   "id": "301ca4cf-98fd-47ea-84d0-6306b5e85b1f",
   "metadata": {},
   "outputs": [],
   "source": [
    "np_src = NonParametricSeismicSource('05', 'Aleatoepist', tectonic_region_type, data) #Non Parametric Seismic Source explicitly defines earthquake \n",
    "#ruptures in the constructor. "
   ]
  },
  {
   "cell_type": "code",
   "execution_count": 178,
   "id": "9b923e7c-45a0-4a76-921d-97b1f61e0c29",
   "metadata": {},
   "outputs": [],
   "source": [
    "#_ = write_source_model('C:/Users/domenge/oq-engine/demos/hazard/NonparametricSourcesClassicalPSHA/test/source.xml', [src],investigation_time=1)\n",
    "_ = write_source_model('C:/Users/domenge/oq-engine/demos/hazard/NonparametricSourcesClassicalPSHA/test/test.xml', [np_src],investigation_time=1)"
   ]
  },
  {
   "cell_type": "code",
   "execution_count": 179,
   "id": "ae8f747c-38a7-41d5-982f-534b89789646",
   "metadata": {},
   "outputs": [],
   "source": [
    "fname = 'test.xyz'\n",
    "\n",
    "# Vérifier si le fichier existe et le supprimer s'il existe\n",
    "if os.path.isfile(fname):\n",
    "    os.remove(fname)\n",
    "    \n",
    "fou = open(fname, 'w')\n",
    "\n",
    "fou.write('>\\n')\n",
    "for dat in data[:5]:\n",
    "    mesh = dat[0].surface.mesh\n",
    "    #if zip(mesh.\n",
    "    for lo, la, de in zip(mesh.lons, mesh.lats, mesh. depths):\n",
    "        fou.write(f'{lo:.6f} {la:.6f} {de:.6f}\\n')\n",
    "    fou.write('>\\n')\n",
    "fou.close()"
   ]
  },
  {
   "cell_type": "code",
   "execution_count": 180,
   "id": "6de2b98a-9e6d-47ab-8aa4-0bfcb7253d84",
   "metadata": {},
   "outputs": [],
   "source": [
    "%%bash\n",
    "region=-1/1/-1/1\n",
    "#region=-0.5/0.5/-0.5/0.5\n",
    "gmt begin test\n",
    "    gmt basemap -R$region -JM6i -B\n",
    "\tgmt plot test.xyz -Wthin,black\n",
    "gmt end show"
   ]
  },
  {
   "cell_type": "code",
   "execution_count": null,
   "id": "d1a8751a-5f49-4185-9b9e-d14e4abf02e9",
   "metadata": {},
   "outputs": [],
   "source": []
  },
  {
   "cell_type": "code",
   "execution_count": null,
   "id": "d9dac6d0-c230-4cfc-b318-7f5f4645bda0",
   "metadata": {},
   "outputs": [],
   "source": []
  },
  {
   "cell_type": "code",
   "execution_count": 143,
   "id": "c7d90a1c-6c44-4926-a09f-a6195686e501",
   "metadata": {},
   "outputs": [],
   "source": [
    "#create nodal plane\n",
    "max_angle_strike = 180\n",
    "pas = 25\n",
    "\n",
    "nodalplanes = []\n",
    "number_orientation = list(range(0, max_angle_strike, pas))\n",
    "\n",
    "for e in number_orientation: \n",
    "    #set everything for the area source\n",
    "    source_id = '05'\n",
    "    name = 'Aleatoepist'\n",
    "    tectonic_region_type = TRT.ACTIVE_SHALLOW_CRUST\n",
    "    mfd = mfd # MDF\n",
    "    rupture_mesh_spacing = 1.0 #it change a thinks that i dont know (weird change about fault on the bottom right (was 1)\n",
    "    msr = WC1994() #scalling relationship\n",
    "    rupture_aspect_ratio = 1 #aspect ratio (move the strike)\n",
    "    tom = PoissonTOM(1.0) # ?? Erased the rupture in the bottom right ???? If the number is one, there are some problem on bottom right\n",
    "    upper_seismogenic_depth = 0.0 #Seismogenic setting\n",
    "    lower_seismogenic_depth = 15.0 #Seismogenic setting\n",
    "    nodal_plane_distribution = PMF([(1, NodalPlane(strike=e, dip=90.0, rake=0.0))]) #that a discrete random variable is exactly equal to some value.\n",
    "    #I think this is the proba to have one or the other nodal plane ? \n",
    "    hypocenter_distribution = PMF([(1.0, 5.0)]) # So you can decide the proba of the hypocenter to be this value or an other (weight) \n",
    "    #-5.0000000E-01 -5.0000000E-01 -3.0000000E-01 -1.0000000E-01 1.0000000E-01 2.0000000E-01 3.0000000E-01 -8.0000000E-01\n",
    "    polygon = Polygon([Point(-0.5, -0.5), Point(-0.5, 0.5), #Set the area\n",
    "                       Point(0.5, 0.5), Point(0.5, -0.5)])\n",
    "    #polygon = Polygon([Point(-0.5, -0.5), Point(-0.3, -0.1), #Set the area\n",
    "    #                   Point(0.1, 0.2), Point(0.3, -0.8)])\n",
    "    area_discretization = 10.0  #Descretization of the space. More the number will be high, higher the space will be between each fault\n",
    "    \n",
    "    src = AreaSource(source_id, name, tectonic_region_type, mfd, #Create the AreaSource\n",
    "                     rupture_mesh_spacing, msr, rupture_aspect_ratio,\n",
    "                     tom, upper_seismogenic_depth, lower_seismogenic_depth,\n",
    "                     nodal_plane_distribution, hypocenter_distribution,\n",
    "                     polygon, area_discretization)\n",
    "    \n",
    "    data = []\n",
    "    \n",
    "    for rup in src.iter_ruptures(): #Take all the information needed in the AreaSource \n",
    "        mag = rup.mag\n",
    "        rake = rup.rake\n",
    "        trt = rup.tectonic_region_type\n",
    "        hypocenter = rup.hypocenter\n",
    "        surface = rup.surface\n",
    "        prob_n0 = np.exp(-rup.occurrence_rate)\n",
    "        prob_n1 = 1 - prob_n0\n",
    "        pmf = PMF([(prob_n0, 0.0), (prob_n1, 1.0)]) #Set the probability of the 2 input\n",
    "        brup = BaseRupture(mag, rake, trt, hypocenter, surface) #Baserupture\n",
    "        data.append((brup, pmf))\n",
    "    \n",
    "    np_src = NonParametricSeismicSource('05', 'Aleatoepist', tectonic_region_type, data) #Non Parametric Seismic Source explicitly defines earthquake \n",
    "    #ruptures in the constructor. \n",
    "    \n",
    "    #_ = write_source_model('C:/Users/domenge/oq-engine/demos/hazard/NonparametricSourcesClassicalPSHA/test/source.xml', [src],investigation_time=1)\n",
    "    _ = write_source_model('C:/Users/domenge/oq-engine/demos/hazard/NonparametricSourcesClassicalPSHA/test/aleatoepiste/test'+str(e)+'.xml', [np_src],investigation_time=1)"
   ]
  },
  {
   "cell_type": "code",
   "execution_count": 108,
   "id": "f15446d7-e120-456a-8bf6-cbd47964847d",
   "metadata": {},
   "outputs": [],
   "source": [
    "fname = 'test.xyz'\n",
    "\n",
    "# Vérifier si le fichier existe et le supprimer s'il existe\n",
    "if os.path.isfile(fname):\n",
    "    os.remove(fname)\n",
    "    \n",
    "fou = open(fname, 'w')\n",
    "\n",
    "fou.write('>\\n')\n",
    "for dat in data[:]:\n",
    "    mesh = dat[0].surface.mesh\n",
    "    #if zip(mesh.\n",
    "    for lo, la, de in zip(mesh.lons, mesh.lats, mesh. depths):\n",
    "        fou.write(f'{lo:.6f} {la:.6f} {de:.6f}\\n')\n",
    "    fou.write('>\\n')\n",
    "fou.close()"
   ]
  },
  {
   "cell_type": "code",
   "execution_count": 109,
   "id": "fb0cd8d4-b260-4581-b941-09511dd4fcea",
   "metadata": {},
   "outputs": [],
   "source": [
    "%%bash\n",
    "region=-1/1/-1/1\n",
    "#region=-0.5/0.5/-0.5/0.5\n",
    "gmt begin test\n",
    "    gmt basemap -R$region -JM6i -B\n",
    "\tgmt plot test.xyz -Wthin,black\n",
    "gmt end show"
   ]
  },
  {
   "cell_type": "code",
   "execution_count": 145,
   "id": "bcfe2d78-73a0-46a7-92b0-f1d416248be2",
   "metadata": {},
   "outputs": [
    {
     "data": {
      "text/plain": [
       "2.139879436315454e-07"
      ]
     },
     "execution_count": 145,
     "metadata": {},
     "output_type": "execute_result"
    }
   ],
   "source": []
  },
  {
   "cell_type": "markdown",
   "id": "3fb0529d-4802-4c51-ac28-866d341e5887",
   "metadata": {},
   "source": [
    "## Adding previous with new notebook"
   ]
  },
  {
   "cell_type": "code",
   "execution_count": 396,
   "id": "b0b6b300-6d28-4056-9b69-19690778d29f",
   "metadata": {},
   "outputs": [],
   "source": [
    "#set everything for the mfd\n",
    "min_mag = 5.0\n",
    "max_mag = 7.0\n",
    "bin_width = 0.1 #0.1\n",
    "a_val = 3.0\n",
    "b_val = 1.0\n",
    "num_simulation = 10000\n",
    "investigation_time = 475\n",
    "degree = 150\n",
    "\n",
    "mfd = TruncatedGRMFD(min_mag, max_mag, bin_width, a_val, b_val)"
   ]
  },
  {
   "cell_type": "code",
   "execution_count": 397,
   "id": "ab9bd785-e719-4073-8f75-dde07a461b84",
   "metadata": {},
   "outputs": [
    {
     "name": "stdout",
     "output_type": "stream",
     "text": [
      "[2.05671765e-03 1.63370890e-03 1.29770111e-03 1.03080063e-03\n",
      " 8.18794045e-04 6.50391229e-04 5.16624117e-04 4.10369123e-04\n",
      " 3.25967781e-04 2.58925412e-04 2.05671765e-04 1.63370890e-04\n",
      " 1.29770111e-04 1.03080063e-04 8.18794045e-05 6.50391229e-05\n",
      " 5.16624117e-05 4.10369123e-05 3.25967781e-05 2.58925412e-05]\n",
      "[  486.2   612.1   770.6   970.1  1221.3  1537.5  1935.6  2436.8  3067.8\n",
      "  3862.1  4862.1  6121.   7705.9  9701.2 12213.1 15375.4 19356.4 24368.3\n",
      " 30677.9 38621.2]\n",
      "[1. 1. 1. 0. 0. 0. 0. 0. 0. 0. 0. 0. 0. 0. 0. 0. 0. 0. 0. 0.]\n",
      "[91 89 55 45 33 31 23 20 18 14  7  5  5  3  7  2  1  1  2  1]\n",
      "[0.20925268 0.16751205 0.13337983 0.10182602 0.08255136 0.06481951\n",
      " 0.0507228  0.04207879 0.03138473 0.02593203 0.02136698 0.01661172\n",
      " 0.01346268 0.00999662 0.00847493 0.00595993 0.0049032  0.00412123\n",
      " 0.00285316 0.00278975]\n"
     ]
    }
   ],
   "source": [
    "mag_occ = np.array(mfd.get_annual_occurrence_rates())\n",
    "print(mag_occ[:, 1])\n",
    "\n",
    "rec_int = 1 / mag_occ[:, 1]\n",
    "print(np.array_str(rec_int, precision=1, suppress_small=True))\n",
    "\n",
    "num_events = investigation_time / rec_int\n",
    "print(np.array_str(num_events, precision=0, suppress_small=True))\n",
    "\n",
    "rates = np.squeeze(mag_occ[:, 1]*investigation_time)\n",
    "num_rups = np.random.poisson(rates, size=(num_simulation, 20))\n",
    "\n",
    "\n",
    "sum_bin_num_rupts = np.sum(num_rups, axis=0)\n",
    "probability = sum_bin_num_rupts/np.sum(sum_bin_num_rupts)\n",
    "print(sum_num_rupts)\n",
    "print(probability)"
   ]
  },
  {
   "cell_type": "code",
   "execution_count": 398,
   "id": "d33bdcea-2ad8-46e2-87c4-9f70c39cff6a",
   "metadata": {},
   "outputs": [],
   "source": [
    "#Here i divide sum_bin_num_rupts by num_simulation because i want to have the rate\n",
    "rate_poisson = 1/(investigation_time/(sum_bin_num_rupts/num_simulation))"
   ]
  },
  {
   "cell_type": "code",
   "execution_count": 399,
   "id": "f0b5378a-12b1-41af-8076-2ca2b574320c",
   "metadata": {},
   "outputs": [
    {
     "name": "stdout",
     "output_type": "stream",
     "text": [
      "[2.08442105e-03 1.66863158e-03 1.32863158e-03 1.01431579e-03\n",
      " 8.22315789e-04 6.45684211e-04 5.05263158e-04 4.19157895e-04\n",
      " 3.12631579e-04 2.58315789e-04 2.12842105e-04 1.65473684e-04\n",
      " 1.34105263e-04 9.95789474e-05 8.44210526e-05 5.93684211e-05\n",
      " 4.88421053e-05 4.10526316e-05 2.84210526e-05 2.77894737e-05]\n"
     ]
    }
   ],
   "source": [
    "print(rate_poisson)"
   ]
  },
  {
   "cell_type": "code",
   "execution_count": 400,
   "id": "59993d9a-fc73-4571-abb9-7b59be301af7",
   "metadata": {},
   "outputs": [
    {
     "data": {
      "image/png": "[encoded data removed]",
      "text/plain": [
       "<Figure size 640x480 with 1 Axes>"
      ]
     },
     "metadata": {},
     "output_type": "display_data"
    }
   ],
   "source": [
    "tmp = []\n",
    "tmp2 = []\n",
    "i = 0\n",
    "for i_mag, mag in enumerate(mag_occ[:, 0]):\n",
    "    tmp.append(np.ones_like(num_rups[:, i_mag]) * mag)\n",
    "    tmp2.append(tmp[i][1])\n",
    "    plt.plot(tmp[i], num_rups[:, i_mag], 'o')\n",
    "    i=i+1\n",
    "_ = plt.ylabel('Number of rupture in t')\n",
    "_ = plt.xlabel('Magnitude')\n"
   ]
  },
  {
   "cell_type": "code",
   "execution_count": 401,
   "id": "6c7b3d1c-ac83-4d61-8750-f443e5fe469a",
   "metadata": {},
   "outputs": [],
   "source": [
    "\n",
    "#set everything for the area source\n",
    "source_id = '06'\n",
    "name = 'Aleatoepist'\n",
    "tectonic_region_type = TRT.ACTIVE_SHALLOW_CRUST\n",
    "mfd = mfd # MDF\n",
    "rupture_mesh_spacing = 1.0 #it change a thinks that i dont know (weird change about fault on the bottom right (was 1)\n",
    "msr = WC1994() #scalling relationship\n",
    "rupture_aspect_ratio = 1 #aspect ratio (move the strike)\n",
    "tom = PoissonTOM(1.0) # ?? Erased the rupture in the bottom right ???? If the number is one, there are some problem on bottom right\n",
    "upper_seismogenic_depth = 0.0 #Seismogenic setting\n",
    "lower_seismogenic_depth = 15.0 #Seismogenic setting\n",
    "nodal_plane_distribution = PMF([(1, NodalPlane(strike=degree, dip=90.0, rake=0.0))]) #that a discrete random variable is exactly equal to some value.\n",
    "#I think this is the proba to have one or the other nodal plane ? \n",
    "hypocenter_distribution = PMF([(1.0, 5.0)]) # So you can decide the proba of the hypocenter to be this value or an other (weight) \n",
    "#-5.0000000E-01 -5.0000000E-01 -3.0000000E-01 -1.0000000E-01 1.0000000E-01 2.0000000E-01 3.0000000E-01 -8.0000000E-01\n",
    "polygon = Polygon([Point(-0.5, -0.5), Point(-0.5, 0.5), #Set the area\n",
    "                   Point(0.5, 0.5), Point(0.5, -0.5)])\n",
    "#polygon = Polygon([Point(-0.5, -0.5), Point(-0.3, -0.1), #Set the area\n",
    "#                   Point(0.1, 0.2), Point(0.3, -0.8)])\n",
    "area_discretization = 1.0  #Descretization of the space. More the number will be high, higher the space will be between each fault\n",
    "\n",
    "src = AreaSource(source_id, name, tectonic_region_type, mfd, #Create the AreaSource\n",
    "                 rupture_mesh_spacing, msr, rupture_aspect_ratio,\n",
    "                 tom, upper_seismogenic_depth, lower_seismogenic_depth,\n",
    "                 nodal_plane_distribution, hypocenter_distribution,\n",
    "                 polygon, area_discretization)\n",
    "\n",
    "data = []\n",
    "i = 0\n",
    "\n",
    "for rup in src.iter_ruptures(): #Take all the information needed in the AreaSource \n",
    "    mag = rup.mag\n",
    "    rake = rup.rake\n",
    "    trt = rup.tectonic_region_type\n",
    "    hypocenter = rup.hypocenter\n",
    "    surface = rup.surface\n",
    "    if i == 19:\n",
    "        i=0\n",
    "    else :\n",
    "        i+=1\n",
    "    prob_n0 = np.exp(-rate_poisson[i])\n",
    "    prob_n1 = 1 - prob_n0\n",
    "    pmf = PMF([(prob_n0, 0.0), (prob_n1, 1.0)]) #Set the probability of the 2 input\n",
    "    brup = BaseRupture(mag, rake, trt, hypocenter, surface) #Baserupture\n",
    "    data.append((brup, pmf))\n",
    "\n",
    "\n",
    "np_src = NonParametricSeismicSource('06', 'merging_two_notebook', tectonic_region_type, data) #Non Parametric Seismic Source explicitly defines earthquake \n",
    "#ruptures in the constructor. \n",
    "\n",
    "#_ = write_source_model('C:/Users/domenge/oq-engine/demos/hazard/NonparametricSourcesClassicalPSHA/test/source.xml', [src],investigation_time=1)\n",
    "_ = write_source_model('C:/Users/domenge/oq-engine/demos/hazard/NonparametricSourcesClassicalPSHA/test/merging_two_notebook/np_source'+str(degree)+'_merging_two_notebook.xml', [np_src],investigation_time=investigation_time)"
   ]
  },
  {
   "cell_type": "code",
   "execution_count": 395,
   "id": "89c69410-b84d-4235-ac27-31d81fb0ded9",
   "metadata": {},
   "outputs": [],
   "source": [
    "fname = 'test.xyz'\n",
    "\n",
    "# Vérifier si le fichier existe et le supprimer s'il existe\n",
    "if os.path.isfile(fname):\n",
    "    os.remove(fname)\n",
    "    \n",
    "fou = open(fname, 'w')\n",
    "\n",
    "fou.write('>\\n')\n",
    "for dat in data[:]:\n",
    "    mesh = dat[0].surface.mesh\n",
    "    #if zip(mesh.\n",
    "    for lo, la, de in zip(mesh.lons, mesh.lats, mesh. depths):\n",
    "        fou.write(f'{lo:.6f} {la:.6f} {de:.6f}\\n')\n",
    "    fou.write('>\\n')\n",
    "fou.close()"
   ]
  },
  {
   "cell_type": "code",
   "execution_count": 382,
   "id": "431f9e5b-72a4-4110-b83a-f13cb10b8bd2",
   "metadata": {},
   "outputs": [],
   "source": [
    "%%bash\n",
    "region=-1/1/-1/1\n",
    "#region=-0.5/0.5/-0.5/0.5\n",
    "gmt begin test\n",
    "    gmt basemap -R$region -JM6i -B\n",
    "\tgmt plot test.xyz -Wthin,black\n",
    "gmt end show"
   ]
  },
  {
   "cell_type": "code",
   "execution_count": null,
   "id": "0243ec33-9cc3-44d0-9dc7-cbaff4bb0d59",
   "metadata": {},
   "outputs": [],
   "source": []
  },
  {
   "cell_type": "code",
   "execution_count": null,
   "id": "0542c9b3-b46e-4be9-851d-9648993b5382",
   "metadata": {},
   "outputs": [],
   "source": []
  }
 ],
 "metadata": {
  "kernelspec": {
   "display_name": "Python (oq)",
   "language": "python",
   "name": "openquake"
  },
  "language_info": {
   "codemirror_mode": {
    "name": "ipython",
    "version": 3
   },
   "file_extension": ".py",
   "mimetype": "text/x-python",
   "name": "python",
   "nbconvert_exporter": "python",
   "pygments_lexer": "ipython3",
   "version": "3.10.11"
  }
 },
 "nbformat": 4,
 "nbformat_minor": 5
}
